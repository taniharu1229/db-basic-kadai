{
  "nbformat": 4,
  "nbformat_minor": 0,
  "metadata": {
    "colab": {
      "provenance": [],
      "authorship_tag": "ABX9TyNIFoqfNOZCTiisMt6klmlx",
      "include_colab_link": true
    },
    "kernelspec": {
      "name": "python3",
      "display_name": "Python 3"
    },
    "language_info": {
      "name": "python"
    }
  },
  "cells": [
    {
      "cell_type": "markdown",
      "metadata": {
        "id": "view-in-github",
        "colab_type": "text"
      },
      "source": [
        "<a href=\"https://colab.research.google.com/github/taniharu1229/db-basic-kadai/blob/main/kadai_003/kadai_003.ipynb\" target=\"_parent\"><img src=\"https://colab.research.google.com/assets/colab-badge.svg\" alt=\"Open In Colab\"/></a>"
      ]
    },
    {
      "cell_type": "code",
      "execution_count": 1,
      "metadata": {
        "colab": {
          "base_uri": "https://localhost:8080/"
        },
        "id": "TTtiMGjnutMd",
        "outputId": "ca62e233-a132-43c6-c5d3-f8bf38caf283"
      },
      "outputs": [
        {
          "output_type": "execute_result",
          "data": {
            "text/plain": [
              "array([1, 2, 3])"
            ]
          },
          "metadata": {},
          "execution_count": 1
        }
      ],
      "source": [
        "import numpy as np\n",
        "narray = np.array([1,2,3])\n",
        "narray"
      ]
    },
    {
      "cell_type": "code",
      "source": [
        "narray.size"
      ],
      "metadata": {
        "colab": {
          "base_uri": "https://localhost:8080/"
        },
        "id": "aO73dFfhu96q",
        "outputId": "35538a48-420f-4ac5-a29f-10b520e9f122"
      },
      "execution_count": 2,
      "outputs": [
        {
          "output_type": "execute_result",
          "data": {
            "text/plain": [
              "3"
            ]
          },
          "metadata": {},
          "execution_count": 2
        }
      ]
    },
    {
      "cell_type": "code",
      "source": [
        "type(narray)"
      ],
      "metadata": {
        "colab": {
          "base_uri": "https://localhost:8080/"
        },
        "id": "lyVqrj6lw1Wo",
        "outputId": "6e88d1ab-7325-4f79-8dc7-a48a8560c783"
      },
      "execution_count": 3,
      "outputs": [
        {
          "output_type": "execute_result",
          "data": {
            "text/plain": [
              "numpy.ndarray"
            ]
          },
          "metadata": {},
          "execution_count": 3
        }
      ]
    },
    {
      "cell_type": "code",
      "source": [
        "nones = np.ones(10)\n",
        "nones"
      ],
      "metadata": {
        "colab": {
          "base_uri": "https://localhost:8080/"
        },
        "id": "gZ31SfRoxGbZ",
        "outputId": "c4c32f72-9a07-40b6-d0e5-071de3186048"
      },
      "execution_count": 4,
      "outputs": [
        {
          "output_type": "execute_result",
          "data": {
            "text/plain": [
              "array([1., 1., 1., 1., 1., 1., 1., 1., 1., 1.])"
            ]
          },
          "metadata": {},
          "execution_count": 4
        }
      ]
    },
    {
      "cell_type": "code",
      "source": [
        "type(nones)"
      ],
      "metadata": {
        "colab": {
          "base_uri": "https://localhost:8080/"
        },
        "id": "tlh2ijBmxQrc",
        "outputId": "69afeb15-77e4-420c-f544-e745a77a4eb3"
      },
      "execution_count": 5,
      "outputs": [
        {
          "output_type": "execute_result",
          "data": {
            "text/plain": [
              "numpy.ndarray"
            ]
          },
          "metadata": {},
          "execution_count": 5
        }
      ]
    },
    {
      "cell_type": "code",
      "source": [
        "multi_array = np.array([[0, 1, 2], [3, 4, 5], [6, 7, 8]])\n",
        "multi_array"
      ],
      "metadata": {
        "colab": {
          "base_uri": "https://localhost:8080/"
        },
        "id": "vTm-T91oxT9p",
        "outputId": "01c650d9-5920-4dd2-e5a3-f367334e4eb1"
      },
      "execution_count": 6,
      "outputs": [
        {
          "output_type": "execute_result",
          "data": {
            "text/plain": [
              "array([[0, 1, 2],\n",
              "       [3, 4, 5],\n",
              "       [6, 7, 8]])"
            ]
          },
          "metadata": {},
          "execution_count": 6
        }
      ]
    },
    {
      "cell_type": "code",
      "source": [
        "np.random.rand()"
      ],
      "metadata": {
        "colab": {
          "base_uri": "https://localhost:8080/"
        },
        "id": "DwtVetrGyOZW",
        "outputId": "bf25d8df-7779-4282-eb09-322e555c475e"
      },
      "execution_count": 7,
      "outputs": [
        {
          "output_type": "execute_result",
          "data": {
            "text/plain": [
              "0.02757477357400362"
            ]
          },
          "metadata": {},
          "execution_count": 7
        }
      ]
    },
    {
      "cell_type": "code",
      "source": [
        "np.random.rand(3)"
      ],
      "metadata": {
        "colab": {
          "base_uri": "https://localhost:8080/"
        },
        "id": "n4pVEXEXyudN",
        "outputId": "a61ee287-b475-4c79-9997-7e7853e05e1a"
      },
      "execution_count": 8,
      "outputs": [
        {
          "output_type": "execute_result",
          "data": {
            "text/plain": [
              "array([0.29341628, 0.20877921, 0.16376509])"
            ]
          },
          "metadata": {},
          "execution_count": 8
        }
      ]
    },
    {
      "cell_type": "code",
      "source": [
        "np.random.rand(3, 3)"
      ],
      "metadata": {
        "colab": {
          "base_uri": "https://localhost:8080/"
        },
        "id": "85hKLjXSy9gs",
        "outputId": "62c274b8-ba8e-48a0-8831-154b9bf6be5e"
      },
      "execution_count": 9,
      "outputs": [
        {
          "output_type": "execute_result",
          "data": {
            "text/plain": [
              "array([[0.17908126, 0.32386748, 0.7166867 ],\n",
              "       [0.02755409, 0.88510554, 0.29093175],\n",
              "       [0.40385091, 0.09944419, 0.97271338]])"
            ]
          },
          "metadata": {},
          "execution_count": 9
        }
      ]
    },
    {
      "cell_type": "code",
      "source": [
        "np.random.randint(1, 10)"
      ],
      "metadata": {
        "colab": {
          "base_uri": "https://localhost:8080/"
        },
        "id": "fY7YuuC9zj77",
        "outputId": "9724459e-e931-4876-d579-4858c71117b3"
      },
      "execution_count": 10,
      "outputs": [
        {
          "output_type": "execute_result",
          "data": {
            "text/plain": [
              "4"
            ]
          },
          "metadata": {},
          "execution_count": 10
        }
      ]
    },
    {
      "cell_type": "code",
      "source": [
        "np.random.randint(1, 10, (5))"
      ],
      "metadata": {
        "colab": {
          "base_uri": "https://localhost:8080/"
        },
        "id": "ijej8YWn0Bas",
        "outputId": "08faeb79-91db-4a09-f2f0-4639d23aefc9"
      },
      "execution_count": 11,
      "outputs": [
        {
          "output_type": "execute_result",
          "data": {
            "text/plain": [
              "array([3, 7, 9, 9, 1])"
            ]
          },
          "metadata": {},
          "execution_count": 11
        }
      ]
    },
    {
      "cell_type": "code",
      "source": [
        "np.random.randint(1, 10, (5, 5))"
      ],
      "metadata": {
        "colab": {
          "base_uri": "https://localhost:8080/"
        },
        "id": "aeRqNAth0vrt",
        "outputId": "8a1319d2-f6fc-4849-f5b5-e27c42a9db9c"
      },
      "execution_count": 13,
      "outputs": [
        {
          "output_type": "execute_result",
          "data": {
            "text/plain": [
              "array([[5, 6, 6, 2, 2],\n",
              "       [1, 3, 8, 5, 7],\n",
              "       [3, 3, 5, 4, 9],\n",
              "       [6, 8, 3, 2, 5],\n",
              "       [3, 5, 7, 3, 3]])"
            ]
          },
          "metadata": {},
          "execution_count": 13
        }
      ]
    },
    {
      "cell_type": "code",
      "source": [
        "random_multi_array = np.random.randint(1, 10, (5, 5))\n",
        "random_multi_array"
      ],
      "metadata": {
        "colab": {
          "base_uri": "https://localhost:8080/"
        },
        "id": "uhcRzkbX1TcK",
        "outputId": "5c58afc9-bec8-457c-f091-8edd16be3730"
      },
      "execution_count": 14,
      "outputs": [
        {
          "output_type": "execute_result",
          "data": {
            "text/plain": [
              "array([[1, 1, 5, 9, 5],\n",
              "       [4, 3, 5, 6, 6],\n",
              "       [6, 2, 6, 4, 4],\n",
              "       [4, 5, 9, 6, 4],\n",
              "       [4, 5, 9, 7, 4]])"
            ]
          },
          "metadata": {},
          "execution_count": 14
        }
      ]
    },
    {
      "cell_type": "code",
      "source": [
        "random_multi_array.max()"
      ],
      "metadata": {
        "colab": {
          "base_uri": "https://localhost:8080/"
        },
        "id": "WSVFSzg62GXk",
        "outputId": "846042b6-f893-4c6e-eebc-3cdf83faef5a"
      },
      "execution_count": 15,
      "outputs": [
        {
          "output_type": "execute_result",
          "data": {
            "text/plain": [
              "9"
            ]
          },
          "metadata": {},
          "execution_count": 15
        }
      ]
    },
    {
      "cell_type": "code",
      "source": [
        "random_multi_array.min()"
      ],
      "metadata": {
        "colab": {
          "base_uri": "https://localhost:8080/"
        },
        "id": "6yAG7k0p2d8n",
        "outputId": "ba938111-fd67-431c-9d4f-c286cfc912cb"
      },
      "execution_count": 17,
      "outputs": [
        {
          "output_type": "execute_result",
          "data": {
            "text/plain": [
              "1"
            ]
          },
          "metadata": {},
          "execution_count": 17
        }
      ]
    },
    {
      "cell_type": "code",
      "source": [
        "random_array = np.random.randint(1, 10, (10))\n",
        "random_array"
      ],
      "metadata": {
        "colab": {
          "base_uri": "https://localhost:8080/"
        },
        "id": "3Mm0jYZu2ugp",
        "outputId": "59d10d79-0592-405f-8146-132753b49428"
      },
      "execution_count": 19,
      "outputs": [
        {
          "output_type": "execute_result",
          "data": {
            "text/plain": [
              "array([5, 1, 1, 5, 7, 8, 3, 6, 5, 1])"
            ]
          },
          "metadata": {},
          "execution_count": 19
        }
      ]
    },
    {
      "cell_type": "code",
      "source": [
        "random_array[0:3]"
      ],
      "metadata": {
        "colab": {
          "base_uri": "https://localhost:8080/"
        },
        "id": "fhLZUNKQ29kN",
        "outputId": "3174b1ac-2e63-482c-c37b-629d9b67be45"
      },
      "execution_count": 20,
      "outputs": [
        {
          "output_type": "execute_result",
          "data": {
            "text/plain": [
              "array([5, 1, 1])"
            ]
          },
          "metadata": {},
          "execution_count": 20
        }
      ]
    },
    {
      "cell_type": "code",
      "source": [
        "a = np.array([1, 2, 3])\n",
        "b = np.array([4, 5, 6])\n",
        "np.concatenate((a, b))"
      ],
      "metadata": {
        "colab": {
          "base_uri": "https://localhost:8080/"
        },
        "id": "MPiLElVn3-7C",
        "outputId": "b0d4695b-679d-4c2a-8a6a-f49645d28979"
      },
      "execution_count": 21,
      "outputs": [
        {
          "output_type": "execute_result",
          "data": {
            "text/plain": [
              "array([1, 2, 3, 4, 5, 6])"
            ]
          },
          "metadata": {},
          "execution_count": 21
        }
      ]
    },
    {
      "cell_type": "code",
      "source": [
        "np.concatenate((a, b), axis=0)"
      ],
      "metadata": {
        "colab": {
          "base_uri": "https://localhost:8080/"
        },
        "id": "pj7zr3bL4q17",
        "outputId": "f0b5e8ad-6b4f-43d4-dc45-19efa6c240cf"
      },
      "execution_count": 23,
      "outputs": [
        {
          "output_type": "execute_result",
          "data": {
            "text/plain": [
              "array([1, 2, 3, 4, 5, 6])"
            ]
          },
          "metadata": {},
          "execution_count": 23
        }
      ]
    },
    {
      "cell_type": "code",
      "source": [
        "a = np.array([[1, 2, 3]])\n",
        "b = np.array([[4, 5, 6]])\n",
        "c = np.array([[7, 8, 9]])\n",
        "np.concatenate((a, b, c), axis=0)"
      ],
      "metadata": {
        "colab": {
          "base_uri": "https://localhost:8080/"
        },
        "id": "pXCJYm185OF1",
        "outputId": "07a3c517-b6c8-40a4-cf66-b8e7d543df5d"
      },
      "execution_count": 25,
      "outputs": [
        {
          "output_type": "execute_result",
          "data": {
            "text/plain": [
              "array([[1, 2, 3],\n",
              "       [4, 5, 6],\n",
              "       [7, 8, 9]])"
            ]
          },
          "metadata": {},
          "execution_count": 25
        }
      ]
    },
    {
      "cell_type": "code",
      "source": [
        "three = np.ones(3)\n",
        "three"
      ],
      "metadata": {
        "colab": {
          "base_uri": "https://localhost:8080/"
        },
        "id": "rM2Fedpd6BGG",
        "outputId": "4401462e-23b2-487b-919b-aeaf6adb52d1"
      },
      "execution_count": 26,
      "outputs": [
        {
          "output_type": "execute_result",
          "data": {
            "text/plain": [
              "array([1., 1., 1.])"
            ]
          },
          "metadata": {},
          "execution_count": 26
        }
      ]
    },
    {
      "cell_type": "code",
      "source": [
        "three + 3"
      ],
      "metadata": {
        "colab": {
          "base_uri": "https://localhost:8080/"
        },
        "id": "526eEAkS7j_R",
        "outputId": "e4c8d3ce-5f1b-4d7a-ad33-ada9af18ca73"
      },
      "execution_count": 27,
      "outputs": [
        {
          "output_type": "execute_result",
          "data": {
            "text/plain": [
              "array([4., 4., 4.])"
            ]
          },
          "metadata": {},
          "execution_count": 27
        }
      ]
    },
    {
      "cell_type": "code",
      "source": [
        "three + [1, 0, 1]"
      ],
      "metadata": {
        "colab": {
          "base_uri": "https://localhost:8080/"
        },
        "id": "aAmLnfBA7rns",
        "outputId": "033098bf-ddb5-4b08-ac6a-fb75d3ca3a19"
      },
      "execution_count": 28,
      "outputs": [
        {
          "output_type": "execute_result",
          "data": {
            "text/plain": [
              "array([2., 1., 2.])"
            ]
          },
          "metadata": {},
          "execution_count": 28
        }
      ]
    },
    {
      "cell_type": "code",
      "source": [
        "six_reshape = np.arange(6).reshape(2, 3)\n",
        "six_reshape"
      ],
      "metadata": {
        "colab": {
          "base_uri": "https://localhost:8080/"
        },
        "id": "zjhsek6S71qi",
        "outputId": "407a7a4e-91d5-4c55-f63a-32b70b3c961e"
      },
      "execution_count": 29,
      "outputs": [
        {
          "output_type": "execute_result",
          "data": {
            "text/plain": [
              "array([[0, 1, 2],\n",
              "       [3, 4, 5]])"
            ]
          },
          "metadata": {},
          "execution_count": 29
        }
      ]
    },
    {
      "cell_type": "code",
      "source": [
        "six_reshape + 1"
      ],
      "metadata": {
        "colab": {
          "base_uri": "https://localhost:8080/"
        },
        "id": "uXdO5t_h8Kpb",
        "outputId": "11a9ad3d-0228-4b4c-f903-e8c40f304376"
      },
      "execution_count": 31,
      "outputs": [
        {
          "output_type": "execute_result",
          "data": {
            "text/plain": [
              "array([[1, 2, 3],\n",
              "       [4, 5, 6]])"
            ]
          },
          "metadata": {},
          "execution_count": 31
        }
      ]
    },
    {
      "cell_type": "code",
      "source": [
        "six_reshape + np.array([[1, 0, 2], [1, 0, 2]] )"
      ],
      "metadata": {
        "colab": {
          "base_uri": "https://localhost:8080/"
        },
        "id": "kk8uqrIC-GyD",
        "outputId": "9eefd5d9-4d2b-4206-9ab6-81593a1a8bd6"
      },
      "execution_count": 32,
      "outputs": [
        {
          "output_type": "execute_result",
          "data": {
            "text/plain": [
              "array([[1, 1, 4],\n",
              "       [4, 4, 7]])"
            ]
          },
          "metadata": {},
          "execution_count": 32
        }
      ]
    },
    {
      "cell_type": "code",
      "source": [
        "five_full = np.full(5, 5)\n",
        "five_full"
      ],
      "metadata": {
        "colab": {
          "base_uri": "https://localhost:8080/"
        },
        "id": "U0Xi-hzM-ADV",
        "outputId": "dc651508-a410-41e2-93b0-5e8d0c1b819c"
      },
      "execution_count": 33,
      "outputs": [
        {
          "output_type": "execute_result",
          "data": {
            "text/plain": [
              "array([5, 5, 5, 5, 5])"
            ]
          },
          "metadata": {},
          "execution_count": 33
        }
      ]
    },
    {
      "cell_type": "code",
      "source": [
        "five_full -2"
      ],
      "metadata": {
        "colab": {
          "base_uri": "https://localhost:8080/"
        },
        "id": "TiRWJonn-e29",
        "outputId": "d73eff0f-7b33-4fa7-d611-4613dbc255e8"
      },
      "execution_count": 34,
      "outputs": [
        {
          "output_type": "execute_result",
          "data": {
            "text/plain": [
              "array([3, 3, 3, 3, 3])"
            ]
          },
          "metadata": {},
          "execution_count": 34
        }
      ]
    },
    {
      "cell_type": "code",
      "source": [
        "five_full - np.array([1, 2, 3, 4, 5])"
      ],
      "metadata": {
        "colab": {
          "base_uri": "https://localhost:8080/"
        },
        "id": "0IwpuFlW-oRL",
        "outputId": "32d49284-77e8-4e23-c637-355ef99a105f"
      },
      "execution_count": 35,
      "outputs": [
        {
          "output_type": "execute_result",
          "data": {
            "text/plain": [
              "array([4, 3, 2, 1, 0])"
            ]
          },
          "metadata": {},
          "execution_count": 35
        }
      ]
    },
    {
      "cell_type": "code",
      "source": [
        "ten  = np.arange(10)\n",
        "ten"
      ],
      "metadata": {
        "colab": {
          "base_uri": "https://localhost:8080/"
        },
        "id": "wM9Uez0m-wWN",
        "outputId": "fdc096e8-6b06-475b-9f80-2afbbf7346d3"
      },
      "execution_count": 37,
      "outputs": [
        {
          "output_type": "execute_result",
          "data": {
            "text/plain": [
              "array([0, 1, 2, 3, 4, 5, 6, 7, 8, 9])"
            ]
          },
          "metadata": {},
          "execution_count": 37
        }
      ]
    },
    {
      "cell_type": "code",
      "source": [
        "ten * 3"
      ],
      "metadata": {
        "colab": {
          "base_uri": "https://localhost:8080/"
        },
        "id": "jL-uFBHm_SCF",
        "outputId": "7852734d-13e4-44ee-9ea1-70ed311767b3"
      },
      "execution_count": 38,
      "outputs": [
        {
          "output_type": "execute_result",
          "data": {
            "text/plain": [
              "array([ 0,  3,  6,  9, 12, 15, 18, 21, 24, 27])"
            ]
          },
          "metadata": {},
          "execution_count": 38
        }
      ]
    },
    {
      "cell_type": "code",
      "source": [
        "div_six = np.arange(6)\n",
        "div_six"
      ],
      "metadata": {
        "colab": {
          "base_uri": "https://localhost:8080/"
        },
        "id": "qlvSHSJT_h_h",
        "outputId": "141b2997-92f9-412e-b4ad-3eceb02d23f2"
      },
      "execution_count": 41,
      "outputs": [
        {
          "output_type": "execute_result",
          "data": {
            "text/plain": [
              "array([0, 1, 2, 3, 4, 5])"
            ]
          },
          "metadata": {},
          "execution_count": 41
        }
      ]
    },
    {
      "cell_type": "code",
      "source": [
        "div_six / 2"
      ],
      "metadata": {
        "colab": {
          "base_uri": "https://localhost:8080/"
        },
        "id": "q7eSkL5Y_6Kz",
        "outputId": "352be034-b105-4942-83d6-4c90287f8bc8"
      },
      "execution_count": 42,
      "outputs": [
        {
          "output_type": "execute_result",
          "data": {
            "text/plain": [
              "array([0. , 0.5, 1. , 1.5, 2. , 2.5])"
            ]
          },
          "metadata": {},
          "execution_count": 42
        }
      ]
    },
    {
      "cell_type": "code",
      "source": [
        "A = np.array([[4, 7, 2], [1, 2, 1]])\n",
        "B = np.array([[2, 2, 2], [4, 5, 2], [9, 2, 1]])\n",
        "np.dot(A, B)"
      ],
      "metadata": {
        "colab": {
          "base_uri": "https://localhost:8080/"
        },
        "id": "xYc12gBG_4b_",
        "outputId": "017ec18a-28b7-4171-b54e-52f27812683f"
      },
      "execution_count": 43,
      "outputs": [
        {
          "output_type": "execute_result",
          "data": {
            "text/plain": [
              "array([[54, 47, 24],\n",
              "       [19, 14,  7]])"
            ]
          },
          "metadata": {},
          "execution_count": 43
        }
      ]
    },
    {
      "cell_type": "code",
      "source": [
        "from numpy.linalg import inv\n",
        "A = np.array([[1, 1, 0], [0, 1, 0], [0, 0, 1]])\n",
        "ainv = inv(A)\n",
        "ainv"
      ],
      "metadata": {
        "colab": {
          "base_uri": "https://localhost:8080/"
        },
        "id": "hEjYiMBIAtWU",
        "outputId": "821538c7-11fd-4238-ff97-ea082fa23412"
      },
      "execution_count": 44,
      "outputs": [
        {
          "output_type": "execute_result",
          "data": {
            "text/plain": [
              "array([[ 1., -1.,  0.],\n",
              "       [ 0.,  1.,  0.],\n",
              "       [ 0.,  0.,  1.]])"
            ]
          },
          "metadata": {},
          "execution_count": 44
        }
      ]
    },
    {
      "cell_type": "code",
      "source": [
        "np.dot(A, ainv)"
      ],
      "metadata": {
        "colab": {
          "base_uri": "https://localhost:8080/"
        },
        "id": "XEeWFaQiCBQ9",
        "outputId": "7ac95641-eb8b-4d2e-b7c3-e33564d35287"
      },
      "execution_count": 46,
      "outputs": [
        {
          "output_type": "execute_result",
          "data": {
            "text/plain": [
              "array([[1., 0., 0.],\n",
              "       [0., 1., 0.],\n",
              "       [0., 0., 1.]])"
            ]
          },
          "metadata": {},
          "execution_count": 46
        }
      ]
    },
    {
      "cell_type": "code",
      "source": [
        "a = np.array([1, 2, 3])\n",
        "np.sum(a)"
      ],
      "metadata": {
        "colab": {
          "base_uri": "https://localhost:8080/"
        },
        "id": "P6A57XPVCYmy",
        "outputId": "27f45296-a36b-4791-9f7f-9f1da7a5d842"
      },
      "execution_count": 47,
      "outputs": [
        {
          "output_type": "execute_result",
          "data": {
            "text/plain": [
              "6"
            ]
          },
          "metadata": {},
          "execution_count": 47
        }
      ]
    },
    {
      "cell_type": "code",
      "source": [
        "a = np.array([[14, 8, 11, 10], [7, 9, 10, 11], [10, 15, 5, 10]])\n",
        "np.sum(a)"
      ],
      "metadata": {
        "colab": {
          "base_uri": "https://localhost:8080/"
        },
        "id": "rU-nQem-DI3X",
        "outputId": "ab7f7d1f-76af-4526-d23c-4aa081509410"
      },
      "execution_count": 48,
      "outputs": [
        {
          "output_type": "execute_result",
          "data": {
            "text/plain": [
              "120"
            ]
          },
          "metadata": {},
          "execution_count": 48
        }
      ]
    },
    {
      "cell_type": "code",
      "source": [
        "np.sum(a, axis=0)"
      ],
      "metadata": {
        "colab": {
          "base_uri": "https://localhost:8080/"
        },
        "id": "dcPvA0iwDg8J",
        "outputId": "44898032-8c32-4c52-9561-a1c8c4d91a34"
      },
      "execution_count": 49,
      "outputs": [
        {
          "output_type": "execute_result",
          "data": {
            "text/plain": [
              "array([31, 32, 26, 31])"
            ]
          },
          "metadata": {},
          "execution_count": 49
        }
      ]
    },
    {
      "cell_type": "code",
      "source": [
        "np.sum(a, axis=1)"
      ],
      "metadata": {
        "colab": {
          "base_uri": "https://localhost:8080/"
        },
        "id": "HndxvXyVDnqF",
        "outputId": "c78b4931-f96b-4345-d3f2-581249e3f8a6"
      },
      "execution_count": 50,
      "outputs": [
        {
          "output_type": "execute_result",
          "data": {
            "text/plain": [
              "array([43, 37, 40])"
            ]
          },
          "metadata": {},
          "execution_count": 50
        }
      ]
    },
    {
      "cell_type": "code",
      "source": [
        "a= np.array([1, 2, 3, 4])\n",
        "np.median(a)"
      ],
      "metadata": {
        "colab": {
          "base_uri": "https://localhost:8080/"
        },
        "id": "rNhaYUEoD284",
        "outputId": "59785164-dc89-4e17-9520-3b54d01da4ef"
      },
      "execution_count": 51,
      "outputs": [
        {
          "output_type": "execute_result",
          "data": {
            "text/plain": [
              "2.5"
            ]
          },
          "metadata": {},
          "execution_count": 51
        }
      ]
    },
    {
      "cell_type": "code",
      "source": [
        "a = np.array([1, 2, 3, 4, 5])\n",
        "np.std(a)"
      ],
      "metadata": {
        "colab": {
          "base_uri": "https://localhost:8080/"
        },
        "id": "AzoV6Dl0E4Mi",
        "outputId": "d9c3db87-b5f3-4b1c-936e-975aea4d75fd"
      },
      "execution_count": 52,
      "outputs": [
        {
          "output_type": "execute_result",
          "data": {
            "text/plain": [
              "1.4142135623730951"
            ]
          },
          "metadata": {},
          "execution_count": 52
        }
      ]
    },
    {
      "cell_type": "code",
      "source": [
        "from PIL import Image\n",
        "import numpy as np\n",
        "\n",
        "#画像を読み込む\n",
        "im = Image.open(\"camera.jpg\")\n",
        "#画像の縮小\n",
        "im = im.resize((im.width //2, im.height //2))\n",
        "im"
      ],
      "metadata": {
        "colab": {
          "base_uri": "https://localhost:8080/",
          "height": 169
        },
        "id": "UdIzkmduFTXI",
        "outputId": "fe0487f7-092d-4bde-8ba5-40a3a60b8c41"
      },
      "execution_count": 53,
      "outputs": [
        {
          "output_type": "execute_result",
          "data": {
            "text/plain": [
              "<PIL.Image.Image image mode=RGB size=200x152>"
            ],
            "image/png": "[encoded data removed]",
            "image/jpeg": "[encoded data removed]"
          },
          "metadata": {},
          "execution_count": 53
        }
      ]
    },
    {
      "cell_type": "code",
      "source": [
        "from PIL import Image\n",
        "\n",
        "#画像を読み込む\n",
        "im = Image.open(\"camera.jpg\")\n",
        "#画像の縮小\n",
        "im = im.resize((im.width //2, im.height //2))\n",
        "im"
      ],
      "metadata": {
        "colab": {
          "base_uri": "https://localhost:8080/",
          "height": 169
        },
        "id": "-F_IZ1gKGoli",
        "outputId": "3f97b6db-8e11-4ee3-a703-b33cc8442c48"
      },
      "execution_count": 56,
      "outputs": [
        {
          "output_type": "execute_result",
          "data": {
            "text/plain": [
              "<PIL.Image.Image image mode=RGB size=200x152>"
            ],
            "image/png": "[encoded data removed]",
            "image/jpeg": "[encoded data removed]"
          },
          "metadata": {},
          "execution_count": 56
        }
      ]
    },
    {
      "cell_type": "code",
      "source": [
        "im_np = np.asarray(im)\n",
        "im_np"
      ],
      "metadata": {
        "colab": {
          "base_uri": "https://localhost:8080/",
          "height": 887
        },
        "id": "zQRCZroAIG8G",
        "outputId": "29bfa14b-f6ac-4572-8c4c-8c3974da5a87"
      },
      "execution_count": 58,
      "outputs": [
        {
          "output_type": "execute_result",
          "data": {
            "text/plain": [
              "array([[[235, 234, 235],\n",
              "        [235, 234, 235],\n",
              "        [235, 234, 235],\n",
              "        ...,\n",
              "        [239, 237, 238],\n",
              "        [239, 237, 238],\n",
              "        [239, 237, 238]],\n",
              "\n",
              "       [[236, 234, 235],\n",
              "        [236, 234, 235],\n",
              "        [236, 234, 235],\n",
              "        ...,\n",
              "        [239, 237, 238],\n",
              "        [239, 237, 238],\n",
              "        [239, 237, 238]],\n",
              "\n",
              "       [[236, 234, 235],\n",
              "        [236, 234, 235],\n",
              "        [236, 234, 235],\n",
              "        ...,\n",
              "        [239, 237, 238],\n",
              "        [239, 237, 238],\n",
              "        [239, 237, 238]],\n",
              "\n",
              "       ...,\n",
              "\n",
              "       [[238, 236, 237],\n",
              "        [238, 236, 237],\n",
              "        [238, 236, 237],\n",
              "        ...,\n",
              "        [240, 238, 239],\n",
              "        [240, 238, 239],\n",
              "        [240, 238, 239]],\n",
              "\n",
              "       [[238, 236, 237],\n",
              "        [238, 236, 237],\n",
              "        [238, 236, 237],\n",
              "        ...,\n",
              "        [240, 238, 239],\n",
              "        [240, 238, 239],\n",
              "        [240, 238, 239]],\n",
              "\n",
              "       [[238, 236, 237],\n",
              "        [238, 236, 237],\n",
              "        [238, 236, 237],\n",
              "        ...,\n",
              "        [240, 238, 239],\n",
              "        [240, 238, 239],\n",
              "        [240, 238, 239]]], dtype=uint8)"
            ],
            "text/html": [
              "<style>\n",
              "      .ndarray_repr .ndarray_raw_data {\n",
              "        display: none;\n",
              "      }\n",
              "      .ndarray_repr.show_array .ndarray_raw_data {\n",
              "        display: block;\n",
              "      }\n",
              "      .ndarray_repr.show_array .ndarray_image_preview {\n",
              "        display: none;\n",
              "      }\n",
              "      </style>\n",
              "      <div id=\"id-609bd64a-33fc-4391-8103-cccfc4e44707\" class=\"ndarray_repr\"><pre>ndarray (152, 200, 3) <button style=\"padding: 0 2px;\">show data</button></pre><img src=\"data:image/png;base64,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\" class=\"ndarray_image_preview\" /><pre class=\"ndarray_raw_data\">array([[[235, 234, 235],\n",
              "        [235, 234, 235],\n",
              "        [235, 234, 235],\n",
              "        ...,\n",
              "        [239, 237, 238],\n",
              "        [239, 237, 238],\n",
              "        [239, 237, 238]],\n",
              "\n",
              "       [[236, 234, 235],\n",
              "        [236, 234, 235],\n",
              "        [236, 234, 235],\n",
              "        ...,\n",
              "        [239, 237, 238],\n",
              "        [239, 237, 238],\n",
              "        [239, 237, 238]],\n",
              "\n",
              "       [[236, 234, 235],\n",
              "        [236, 234, 235],\n",
              "        [236, 234, 235],\n",
              "        ...,\n",
              "        [239, 237, 238],\n",
              "        [239, 237, 238],\n",
              "        [239, 237, 238]],\n",
              "\n",
              "       ...,\n",
              "\n",
              "       [[238, 236, 237],\n",
              "        [238, 236, 237],\n",
              "        [238, 236, 237],\n",
              "        ...,\n",
              "        [240, 238, 239],\n",
              "        [240, 238, 239],\n",
              "        [240, 238, 239]],\n",
              "\n",
              "       [[238, 236, 237],\n",
              "        [238, 236, 237],\n",
              "        [238, 236, 237],\n",
              "        ...,\n",
              "        [240, 238, 239],\n",
              "        [240, 238, 239],\n",
              "        [240, 238, 239]],\n",
              "\n",
              "       [[238, 236, 237],\n",
              "        [238, 236, 237],\n",
              "        [238, 236, 237],\n",
              "        ...,\n",
              "        [240, 238, 239],\n",
              "        [240, 238, 239],\n",
              "        [240, 238, 239]]], dtype=uint8)</pre></div><script>\n",
              "      (() => {\n",
              "      const titles = ['show data', 'hide data'];\n",
              "      let index = 0\n",
              "      document.querySelector('#id-609bd64a-33fc-4391-8103-cccfc4e44707 button').onclick = (e) => {\n",
              "        document.querySelector('#id-609bd64a-33fc-4391-8103-cccfc4e44707').classList.toggle('show_array');\n",
              "        index = (++index) % 2;\n",
              "        document.querySelector('#id-609bd64a-33fc-4391-8103-cccfc4e44707 button').textContent = titles[index];\n",
              "        e.preventDefault();\n",
              "        e.stopPropagation();\n",
              "      }\n",
              "      })();\n",
              "    </script>"
            ]
          },
          "metadata": {},
          "execution_count": 58
        }
      ]
    },
    {
      "cell_type": "code",
      "source": [
        "255 - im_np"
      ],
      "metadata": {
        "colab": {
          "base_uri": "https://localhost:8080/",
          "height": 193
        },
        "id": "dc3yxm9MIMqm",
        "outputId": "5721ddce-4988-49aa-d87e-e1bfe9b61ea1"
      },
      "execution_count": 60,
      "outputs": [
        {
          "output_type": "execute_result",
          "data": {
            "text/plain": [
              "array([[[20, 21, 20],\n",
              "        [20, 21, 20],\n",
              "        [20, 21, 20],\n",
              "        ...,\n",
              "        [16, 18, 17],\n",
              "        [16, 18, 17],\n",
              "        [16, 18, 17]],\n",
              "\n",
              "       [[19, 21, 20],\n",
              "        [19, 21, 20],\n",
              "        [19, 21, 20],\n",
              "        ...,\n",
              "        [16, 18, 17],\n",
              "        [16, 18, 17],\n",
              "        [16, 18, 17]],\n",
              "\n",
              "       [[19, 21, 20],\n",
              "        [19, 21, 20],\n",
              "        [19, 21, 20],\n",
              "        ...,\n",
              "        [16, 18, 17],\n",
              "        [16, 18, 17],\n",
              "        [16, 18, 17]],\n",
              "\n",
              "       ...,\n",
              "\n",
              "       [[17, 19, 18],\n",
              "        [17, 19, 18],\n",
              "        [17, 19, 18],\n",
              "        ...,\n",
              "        [15, 17, 16],\n",
              "        [15, 17, 16],\n",
              "        [15, 17, 16]],\n",
              "\n",
              "       [[17, 19, 18],\n",
              "        [17, 19, 18],\n",
              "        [17, 19, 18],\n",
              "        ...,\n",
              "        [15, 17, 16],\n",
              "        [15, 17, 16],\n",
              "        [15, 17, 16]],\n",
              "\n",
              "       [[17, 19, 18],\n",
              "        [17, 19, 18],\n",
              "        [17, 19, 18],\n",
              "        ...,\n",
              "        [15, 17, 16],\n",
              "        [15, 17, 16],\n",
              "        [15, 17, 16]]], dtype=uint8)"
            ],
            "text/html": [
              "<style>\n",
              "      .ndarray_repr .ndarray_raw_data {\n",
              "        display: none;\n",
              "      }\n",
              "      .ndarray_repr.show_array .ndarray_raw_data {\n",
              "        display: block;\n",
              "      }\n",
              "      .ndarray_repr.show_array .ndarray_image_preview {\n",
              "        display: none;\n",
              "      }\n",
              "      </style>\n",
              "      <div id=\"id-b7a7aecb-5f1c-4eb5-9601-0a3ed64f2576\" class=\"ndarray_repr\"><pre>ndarray (152, 200, 3) <button style=\"padding: 0 2px;\">show data</button></pre><img src=\"data:image/png;base64,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\" class=\"ndarray_image_preview\" /><pre class=\"ndarray_raw_data\">array([[[20, 21, 20],\n",
              "        [20, 21, 20],\n",
              "        [20, 21, 20],\n",
              "        ...,\n",
              "        [16, 18, 17],\n",
              "        [16, 18, 17],\n",
              "        [16, 18, 17]],\n",
              "\n",
              "       [[19, 21, 20],\n",
              "        [19, 21, 20],\n",
              "        [19, 21, 20],\n",
              "        ...,\n",
              "        [16, 18, 17],\n",
              "        [16, 18, 17],\n",
              "        [16, 18, 17]],\n",
              "\n",
              "       [[19, 21, 20],\n",
              "        [19, 21, 20],\n",
              "        [19, 21, 20],\n",
              "        ...,\n",
              "        [16, 18, 17],\n",
              "        [16, 18, 17],\n",
              "        [16, 18, 17]],\n",
              "\n",
              "       ...,\n",
              "\n",
              "       [[17, 19, 18],\n",
              "        [17, 19, 18],\n",
              "        [17, 19, 18],\n",
              "        ...,\n",
              "        [15, 17, 16],\n",
              "        [15, 17, 16],\n",
              "        [15, 17, 16]],\n",
              "\n",
              "       [[17, 19, 18],\n",
              "        [17, 19, 18],\n",
              "        [17, 19, 18],\n",
              "        ...,\n",
              "        [15, 17, 16],\n",
              "        [15, 17, 16],\n",
              "        [15, 17, 16]],\n",
              "\n",
              "       [[17, 19, 18],\n",
              "        [17, 19, 18],\n",
              "        [17, 19, 18],\n",
              "        ...,\n",
              "        [15, 17, 16],\n",
              "        [15, 17, 16],\n",
              "        [15, 17, 16]]], dtype=uint8)</pre></div><script>\n",
              "      (() => {\n",
              "      const titles = ['show data', 'hide data'];\n",
              "      let index = 0\n",
              "      document.querySelector('#id-b7a7aecb-5f1c-4eb5-9601-0a3ed64f2576 button').onclick = (e) => {\n",
              "        document.querySelector('#id-b7a7aecb-5f1c-4eb5-9601-0a3ed64f2576').classList.toggle('show_array');\n",
              "        index = (++index) % 2;\n",
              "        document.querySelector('#id-b7a7aecb-5f1c-4eb5-9601-0a3ed64f2576 button').textContent = titles[index];\n",
              "        e.preventDefault();\n",
              "        e.stopPropagation();\n",
              "      }\n",
              "      })();\n",
              "    </script>"
            ]
          },
          "metadata": {},
          "execution_count": 60
        }
      ]
    },
    {
      "cell_type": "code",
      "source": [
        "negative_im_np = 255 - im_np\n",
        "negative_im = Image.fromarray(negative_im_np)\n",
        "negative_im"
      ],
      "metadata": {
        "colab": {
          "base_uri": "https://localhost:8080/",
          "height": 169
        },
        "id": "QY0EjHYWIcw0",
        "outputId": "c30192fd-511c-476a-b5ed-0b8dfb6c004d"
      },
      "execution_count": 63,
      "outputs": [
        {
          "output_type": "execute_result",
          "data": {
            "text/plain": [
              "<PIL.Image.Image image mode=RGB size=200x152>"
            ],
            "image/png": "[encoded data removed]",
            "image/jpeg": "[encoded data removed]"
          },
          "metadata": {},
          "execution_count": 63
        }
      ]
    },
    {
      "cell_type": "code",
      "source": [
        "import numpy as np\n",
        "A = np.arange(6).reshape(3, 2)\n",
        "B = np.arange(8).reshape(2, 4)\n",
        "np.dot(A, B)\n",
        "C = np.dot(A, B)\n",
        "C.max()"
      ],
      "metadata": {
        "colab": {
          "base_uri": "https://localhost:8080/"
        },
        "id": "cREHxELJIz5z",
        "outputId": "78e1b907-1446-4226-8e62-9c71fd67e21f"
      },
      "execution_count": 70,
      "outputs": [
        {
          "output_type": "execute_result",
          "data": {
            "text/plain": [
              "47"
            ]
          },
          "metadata": {},
          "execution_count": 70
        }
      ]
    },
    {
      "cell_type": "code",
      "source": [],
      "metadata": {
        "id": "qH91PpSwLFmp"
      },
      "execution_count": null,
      "outputs": []
    }
  ]
}